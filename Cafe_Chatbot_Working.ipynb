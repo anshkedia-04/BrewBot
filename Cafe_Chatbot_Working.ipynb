{
  "nbformat": 4,
  "nbformat_minor": 0,
  "metadata": {
    "colab": {
      "provenance": [],
      "gpuType": "T4",
      "authorship_tag": "ABX9TyM5xc6D/hJHoRGx8q7nfZ6W",
      "include_colab_link": true
    },
    "kernelspec": {
      "name": "python3",
      "display_name": "Python 3"
    },
    "language_info": {
      "name": "python"
    },
    "accelerator": "GPU"
  },
  "cells": [
    {
      "cell_type": "markdown",
      "metadata": {
        "id": "view-in-github",
        "colab_type": "text"
      },
      "source": [
        "<a href=\"https://colab.research.google.com/github/anshkedia-04/Cafe_FAQ_Chatbot/blob/main/Cafe_Chatbot_Working.ipynb\" target=\"_parent\"><img src=\"https://colab.research.google.com/assets/colab-badge.svg\" alt=\"Open In Colab\"/></a>"
      ]
    },
    {
      "cell_type": "markdown",
      "metadata": {
        "id": "514e9fd9"
      },
      "source": [
        "### Install necessary libraries"
      ]
    },
    {
      "cell_type": "code",
      "metadata": {
        "id": "1dd4230d"
      },
      "source": [
        "!pip install -U langchain langchain-community langchainhub transformers accelerate huggingface_hub --quiet\n",
        "!pip install -U sentence-transformers faiss-cpu --quiet\n",
        "!pip install -U pypdf --quiet"
      ],
      "execution_count": 5,
      "outputs": []
    },
    {
      "cell_type": "markdown",
      "metadata": {
        "id": "3d76407e"
      },
      "source": [
        "### Upload data files"
      ]
    },
    {
      "cell_type": "code",
      "metadata": {
        "colab": {
          "base_uri": "https://localhost:8080/",
          "height": 142
        },
        "id": "3e57f3aa",
        "outputId": "74ff95f7-ef8e-4188-cf20-4ce97580f56b"
      },
      "source": [
        "from google.colab import files\n",
        "\n",
        "# Upload menu.pdf, faq.txt, offers.csv\n",
        "uploaded = files.upload()"
      ],
      "execution_count": 7,
      "outputs": [
        {
          "output_type": "display_data",
          "data": {
            "text/plain": [
              "<IPython.core.display.HTML object>"
            ],
            "text/html": [
              "\n",
              "     <input type=\"file\" id=\"files-8a2d7a28-cc10-4e81-ab55-603bdf007824\" name=\"files[]\" multiple disabled\n",
              "        style=\"border:none\" />\n",
              "     <output id=\"result-8a2d7a28-cc10-4e81-ab55-603bdf007824\">\n",
              "      Upload widget is only available when the cell has been executed in the\n",
              "      current browser session. Please rerun this cell to enable.\n",
              "      </output>\n",
              "      <script>// Copyright 2017 Google LLC\n",
              "//\n",
              "// Licensed under the Apache License, Version 2.0 (the \"License\");\n",
              "// you may not use this file except in compliance with the License.\n",
              "// You may obtain a copy of the License at\n",
              "//\n",
              "//      http://www.apache.org/licenses/LICENSE-2.0\n",
              "//\n",
              "// Unless required by applicable law or agreed to in writing, software\n",
              "// distributed under the License is distributed on an \"AS IS\" BASIS,\n",
              "// WITHOUT WARRANTIES OR CONDITIONS OF ANY KIND, either express or implied.\n",
              "// See the License for the specific language governing permissions and\n",
              "// limitations under the License.\n",
              "\n",
              "/**\n",
              " * @fileoverview Helpers for google.colab Python module.\n",
              " */\n",
              "(function(scope) {\n",
              "function span(text, styleAttributes = {}) {\n",
              "  const element = document.createElement('span');\n",
              "  element.textContent = text;\n",
              "  for (const key of Object.keys(styleAttributes)) {\n",
              "    element.style[key] = styleAttributes[key];\n",
              "  }\n",
              "  return element;\n",
              "}\n",
              "\n",
              "// Max number of bytes which will be uploaded at a time.\n",
              "const MAX_PAYLOAD_SIZE = 100 * 1024;\n",
              "\n",
              "function _uploadFiles(inputId, outputId) {\n",
              "  const steps = uploadFilesStep(inputId, outputId);\n",
              "  const outputElement = document.getElementById(outputId);\n",
              "  // Cache steps on the outputElement to make it available for the next call\n",
              "  // to uploadFilesContinue from Python.\n",
              "  outputElement.steps = steps;\n",
              "\n",
              "  return _uploadFilesContinue(outputId);\n",
              "}\n",
              "\n",
              "// This is roughly an async generator (not supported in the browser yet),\n",
              "// where there are multiple asynchronous steps and the Python side is going\n",
              "// to poll for completion of each step.\n",
              "// This uses a Promise to block the python side on completion of each step,\n",
              "// then passes the result of the previous step as the input to the next step.\n",
              "function _uploadFilesContinue(outputId) {\n",
              "  const outputElement = document.getElementById(outputId);\n",
              "  const steps = outputElement.steps;\n",
              "\n",
              "  const next = steps.next(outputElement.lastPromiseValue);\n",
              "  return Promise.resolve(next.value.promise).then((value) => {\n",
              "    // Cache the last promise value to make it available to the next\n",
              "    // step of the generator.\n",
              "    outputElement.lastPromiseValue = value;\n",
              "    return next.value.response;\n",
              "  });\n",
              "}\n",
              "\n",
              "/**\n",
              " * Generator function which is called between each async step of the upload\n",
              " * process.\n",
              " * @param {string} inputId Element ID of the input file picker element.\n",
              " * @param {string} outputId Element ID of the output display.\n",
              " * @return {!Iterable<!Object>} Iterable of next steps.\n",
              " */\n",
              "function* uploadFilesStep(inputId, outputId) {\n",
              "  const inputElement = document.getElementById(inputId);\n",
              "  inputElement.disabled = false;\n",
              "\n",
              "  const outputElement = document.getElementById(outputId);\n",
              "  outputElement.innerHTML = '';\n",
              "\n",
              "  const pickedPromise = new Promise((resolve) => {\n",
              "    inputElement.addEventListener('change', (e) => {\n",
              "      resolve(e.target.files);\n",
              "    });\n",
              "  });\n",
              "\n",
              "  const cancel = document.createElement('button');\n",
              "  inputElement.parentElement.appendChild(cancel);\n",
              "  cancel.textContent = 'Cancel upload';\n",
              "  const cancelPromise = new Promise((resolve) => {\n",
              "    cancel.onclick = () => {\n",
              "      resolve(null);\n",
              "    };\n",
              "  });\n",
              "\n",
              "  // Wait for the user to pick the files.\n",
              "  const files = yield {\n",
              "    promise: Promise.race([pickedPromise, cancelPromise]),\n",
              "    response: {\n",
              "      action: 'starting',\n",
              "    }\n",
              "  };\n",
              "\n",
              "  cancel.remove();\n",
              "\n",
              "  // Disable the input element since further picks are not allowed.\n",
              "  inputElement.disabled = true;\n",
              "\n",
              "  if (!files) {\n",
              "    return {\n",
              "      response: {\n",
              "        action: 'complete',\n",
              "      }\n",
              "    };\n",
              "  }\n",
              "\n",
              "  for (const file of files) {\n",
              "    const li = document.createElement('li');\n",
              "    li.append(span(file.name, {fontWeight: 'bold'}));\n",
              "    li.append(span(\n",
              "        `(${file.type || 'n/a'}) - ${file.size} bytes, ` +\n",
              "        `last modified: ${\n",
              "            file.lastModifiedDate ? file.lastModifiedDate.toLocaleDateString() :\n",
              "                                    'n/a'} - `));\n",
              "    const percent = span('0% done');\n",
              "    li.appendChild(percent);\n",
              "\n",
              "    outputElement.appendChild(li);\n",
              "\n",
              "    const fileDataPromise = new Promise((resolve) => {\n",
              "      const reader = new FileReader();\n",
              "      reader.onload = (e) => {\n",
              "        resolve(e.target.result);\n",
              "      };\n",
              "      reader.readAsArrayBuffer(file);\n",
              "    });\n",
              "    // Wait for the data to be ready.\n",
              "    let fileData = yield {\n",
              "      promise: fileDataPromise,\n",
              "      response: {\n",
              "        action: 'continue',\n",
              "      }\n",
              "    };\n",
              "\n",
              "    // Use a chunked sending to avoid message size limits. See b/62115660.\n",
              "    let position = 0;\n",
              "    do {\n",
              "      const length = Math.min(fileData.byteLength - position, MAX_PAYLOAD_SIZE);\n",
              "      const chunk = new Uint8Array(fileData, position, length);\n",
              "      position += length;\n",
              "\n",
              "      const base64 = btoa(String.fromCharCode.apply(null, chunk));\n",
              "      yield {\n",
              "        response: {\n",
              "          action: 'append',\n",
              "          file: file.name,\n",
              "          data: base64,\n",
              "        },\n",
              "      };\n",
              "\n",
              "      let percentDone = fileData.byteLength === 0 ?\n",
              "          100 :\n",
              "          Math.round((position / fileData.byteLength) * 100);\n",
              "      percent.textContent = `${percentDone}% done`;\n",
              "\n",
              "    } while (position < fileData.byteLength);\n",
              "  }\n",
              "\n",
              "  // All done.\n",
              "  yield {\n",
              "    response: {\n",
              "      action: 'complete',\n",
              "    }\n",
              "  };\n",
              "}\n",
              "\n",
              "scope.google = scope.google || {};\n",
              "scope.google.colab = scope.google.colab || {};\n",
              "scope.google.colab._files = {\n",
              "  _uploadFiles,\n",
              "  _uploadFilesContinue,\n",
              "};\n",
              "})(self);\n",
              "</script> "
            ]
          },
          "metadata": {}
        },
        {
          "output_type": "stream",
          "name": "stdout",
          "text": [
            "Saving faq.txt to faq (1).txt\n",
            "Saving menu.pdf to menu (1).pdf\n",
            "Saving offers.csv to offers (1).csv\n"
          ]
        }
      ]
    },
    {
      "cell_type": "markdown",
      "metadata": {
        "id": "0ca9ec32"
      },
      "source": [
        "### Load documents"
      ]
    },
    {
      "cell_type": "code",
      "metadata": {
        "colab": {
          "base_uri": "https://localhost:8080/"
        },
        "id": "acdb200e",
        "outputId": "1a50ead3-ff3d-4189-8113-833c19371a6f"
      },
      "source": [
        "from langchain_community.document_loaders import PyPDFLoader, TextLoader, CSVLoader\n",
        "\n",
        "# Load all three file types\n",
        "pdf_loader = PyPDFLoader(\"menu.pdf\")\n",
        "txt_loader = TextLoader(\"faq.txt\")\n",
        "csv_loader = CSVLoader(\"offers.csv\")\n",
        "\n",
        "# Load documents\n",
        "docs = pdf_loader.load() + txt_loader.load() + csv_loader.load()\n",
        "# print(f\"Loaded {len(docs)} documents.\")\n",
        "print(docs)"
      ],
      "execution_count": 9,
      "outputs": [
        {
          "output_type": "stream",
          "name": "stdout",
          "text": [
            "[Document(metadata={'producer': 'Microsoft® Word 2021', 'creator': 'Microsoft® Word 2021', 'creationdate': '2025-05-14T23:53:41+05:30', 'author': 'ANSH KEDIA', 'moddate': '2025-05-14T23:53:41+05:30', 'source': 'menu.pdf', 'total_pages': 1, 'page': 0, 'page_label': '1'}, page_content='Brew Haven Café - Menu \\n \\n       Hot Beverages \\n- Espresso ................... ₹120 \\n- Cappuccino ................ ₹150 \\n- Café Latte ................ ₹160 \\n- Hot Chocolate ............. ₹180 \\n- Masala Chai ............... ₹100 \\n \\n       Cold Beverages \\n- Iced Americano ............ ₹130 \\n- Cold Coffee ............... ₹150 \\n- Iced Lemon Tea ............ ₹120 \\n- Oreo Shake ................ ₹200 \\n \\n     Desserts \\n- Chocolate Brownie ......... ₹110 \\n- Cheesecake ................ ₹170 \\n- Blueberry Muffin .......... ₹90 \\n \\n        Snacks \\n- Veg Sandwich .............. ₹120 \\n- Chicken Panini ............ ₹180 \\n- Fries ..................... ₹90 \\n \\n   Vegan Options: Almond Milk, Soy Milk, Vegan Sandwich'), Document(metadata={'source': 'faq.txt'}, page_content='Q: What are your opening hours?\\nA: We are open from 8:00 AM to 10:00 PM every day.\\n\\nQ: Do you offer vegan options?\\nA: Yes, we have almond and soy milk. Vegan sandwiches are also available.\\n\\nQ: Is there Wi-Fi available?\\nA: Yes, free Wi-Fi is available. Please ask the cashier for the password.\\n\\nQ: Do you have parking space?\\nA: Limited street parking is available outside the café.\\n\\nQ: Are pets allowed?\\nA: Pets are allowed in the outdoor seating area.\\n\\nQ: Do you take online orders?\\nA: Yes, we are available on Swiggy and Zomato.\\n\\nQ: Do you have outdoor seating?\\nA: Yes, we offer outdoor seating with shade and fans.\\n\\nQ: Is your café air-conditioned?\\nA: Yes, our indoor seating is fully air-conditioned.\\n\\nQ: Do you serve breakfast?\\nA: Yes, breakfast is served from 8:00 AM to 11:00 AM.\\n\\nQ: What kind of milk alternatives do you offer?\\nA: We offer almond milk, soy milk, and oat milk.\\n\\nQ: Do you have gluten-free options?\\nA: Yes, gluten-free sandwiches and brownies are available.\\n\\nQ: Are there any sugar-free desserts?\\nA: Yes, we have sugar-free muffins and brownies.\\n\\nQ: Can I work on my laptop here?\\nA: Absolutely! We are laptop-friendly and have power sockets.\\n\\nQ: Do you offer charging ports?\\nA: Yes, charging ports are available at most tables.\\n\\nQ: Can I reserve a table?\\nA: Table reservations can be made for groups of 4 or more.\\n\\nQ: Do you host birthday parties?\\nA: Yes, we can host small birthday events with prior notice.\\n\\nQ: Is smoking allowed?\\nA: Smoking is only allowed in the outdoor area.\\n\\nQ: Do you accept credit cards?\\nA: Yes, we accept all major debit/credit cards and UPI.\\n\\nQ: Is cash payment accepted?\\nA: Yes, both cash and digital payments are accepted.\\n\\nQ: Do you have a kids’ menu?\\nA: Yes, we have smaller portions and child-friendly snacks.\\n\\nQ: Are your coffee beans organic?\\nA: Yes, we use ethically sourced organic coffee beans.\\n\\nQ: Do you offer bulk orders for events?\\nA: Yes, please contact the manager for catering and bulk orders.\\n\\nQ: Are there loyalty rewards or a membership?\\nA: Yes, our BrewPass loyalty program gives you 1 free drink every 5 visits.\\n\\nQ: Do you offer seasonal drinks?\\nA: Yes, we have seasonal drinks like Pumpkin Spice Latte and Mango Iced Tea.\\n\\nQ: What are the most popular items?\\nA: Customers love our Cappuccino, Chicken Panini, and Cheesecake.\\n\\nQ: Do you sell gift cards?\\nA: Yes, you can purchase digital and physical gift cards.\\n\\nQ: Can I customize my coffee?\\nA: Absolutely! You can choose the milk, sweetness, and extra shots.\\n\\nQ: Do you sell whole beans or ground coffee?\\nA: Yes, we sell 250g and 500g packs of our house blend coffee.\\n\\nQ: Are staff trained in hygiene and food safety?\\nA: Yes, all staff are trained and follow FSSAI hygiene protocols.\\n\\nQ: Do you have any job openings?\\nA: Please ask the manager or check our website for vacancies.\\n\\nQ: Can I bring my own mug?\\nA: Yes, and you get ₹10 off for using your own reusable mug.\\n\\nQ: Do you offer student discounts?\\nA: Yes, students get 10% off with a valid student ID.\\n\\nQ: Do you play live music?\\nA: We host acoustic nights every Friday from 7 PM.\\n\\nQ: Is there a restroom for customers?\\nA: Yes, restrooms are available for café customers.\\n'), Document(metadata={'source': 'offers.csv', 'row': 0}, page_content='Offer Name,Description,Valid Till: Happy Hours,20% off on all drinks between 4 PM - 6 PM,2025-06-30'), Document(metadata={'source': 'offers.csv', 'row': 1}, page_content='Offer Name,Description,Valid Till: Breakfast Combo,Coffee + Muffin @ ?180,2025-06-15'), Document(metadata={'source': 'offers.csv', 'row': 2}, page_content='Offer Name,Description,Valid Till: Weekend Special,Buy 1 Get 1 Free on Cold Coffees (Sat & Sun),2025-07-31'), Document(metadata={'source': 'offers.csv', 'row': 3}, page_content='Offer Name,Description,Valid Till: Student Discount,10% off with student ID,2025-12-31')]\n"
          ]
        }
      ]
    },
    {
      "cell_type": "markdown",
      "metadata": {
        "id": "d3c64472"
      },
      "source": [
        "### Split documents, create embeddings, and store in vector database"
      ]
    },
    {
      "cell_type": "code",
      "metadata": {
        "id": "a89855b0"
      },
      "source": [
        "from langchain.text_splitter import RecursiveCharacterTextSplitter\n",
        "from langchain_community.embeddings import HuggingFaceEmbeddings\n",
        "from langchain.vectorstores import FAISS\n",
        "\n",
        "# Split into chunks\n",
        "splitter = RecursiveCharacterTextSplitter(chunk_size=500, chunk_overlap=100)\n",
        "docs_split = splitter.split_documents(docs)\n",
        "\n",
        "# Use sentence-transformers to create embeddings\n",
        "embeddings = HuggingFaceEmbeddings(model_name=\"all-MiniLM-L6-v2\")\n",
        "\n",
        "# Store in vector DB\n",
        "db = FAISS.from_documents(docs_split, embeddings)"
      ],
      "execution_count": 10,
      "outputs": []
    },
    {
      "cell_type": "markdown",
      "metadata": {
        "id": "ca57494e"
      },
      "source": [
        "### Load the Language Model"
      ]
    },
    {
      "cell_type": "code",
      "metadata": {
        "colab": {
          "base_uri": "https://localhost:8080/"
        },
        "id": "6f042a67",
        "outputId": "b0209599-18ea-4bbb-ba5b-95d7edf2c1fb"
      },
      "source": [
        "from langchain_community.llms import HuggingFacePipeline\n",
        "from transformers import AutoTokenizer, AutoModelForSeq2SeqLM, pipeline\n",
        "\n",
        "# Load FLAN-T5 for Q&A\n",
        "model_name = \"google/flan-t5-base\"\n",
        "tokenizer = AutoTokenizer.from_pretrained(model_name)\n",
        "model = AutoModelForSeq2SeqLM.from_pretrained(model_name)\n",
        "\n",
        "pipe = pipeline(\"text2text-generation\", model=model, tokenizer=tokenizer, max_length=256)\n",
        "llm = HuggingFacePipeline(pipeline=pipe)"
      ],
      "execution_count": 11,
      "outputs": [
        {
          "output_type": "stream",
          "name": "stderr",
          "text": [
            "Device set to use cuda:0\n"
          ]
        }
      ]
    },
    {
      "cell_type": "markdown",
      "metadata": {
        "id": "8a1b9909"
      },
      "source": [
        "### Create Retriever and QA Chain"
      ]
    },
    {
      "cell_type": "code",
      "metadata": {
        "id": "9557cef2"
      },
      "source": [
        "from langchain.chains import RetrievalQA\n",
        "\n",
        "# Create retriever and QA chain\n",
        "retriever = db.as_retriever(search_kwargs={\"k\": 3})\n",
        "qa_chain = RetrievalQA.from_chain_type(llm=llm, retriever=retriever)"
      ],
      "execution_count": 12,
      "outputs": []
    },
    {
      "cell_type": "markdown",
      "metadata": {
        "id": "62ae6227"
      },
      "source": [
        "### Ask Questions"
      ]
    },
    {
      "cell_type": "code",
      "metadata": {
        "colab": {
          "base_uri": "https://localhost:8080/"
        },
        "id": "fde30fa9",
        "outputId": "67019136-c375-40cb-8100-a24f95310ea9"
      },
      "source": [
        "# Ask questions in a loop\n",
        "print(\"✅ Ask your café-related questions below. Type 'exit' to stop.\\n\")\n",
        "\n",
        "while True:\n",
        "    query = input(\"🔎 Your question: \")\n",
        "    if query.lower() in [\"exit\", \"quit\", \"stop\"]:\n",
        "        print(\"👋 Exiting. Thank you!\")\n",
        "        break\n",
        "    try:\n",
        "        response = qa_chain.invoke(query)\n",
        "        print(\"💬 Answer:\", response[\"result\"], \"\\n\")\n",
        "    except Exception as e:\n",
        "        print(\"❌ Error:\", e, \"\\n\")"
      ],
      "execution_count": 13,
      "outputs": [
        {
          "output_type": "stream",
          "name": "stdout",
          "text": [
            "✅ Ask your café-related questions below. Type 'exit' to stop.\n",
            "\n",
            "🔎 Your question: Best sellers ?\n",
            "💬 Answer: Cappuccino, Chicken Panini, and Cheesecake. \n",
            "\n",
            "🔎 Your question: What are the vegan options\n",
            "💬 Answer: Almond Milk, Soy Milk, Vegan Sandwich \n",
            "\n",
            "🔎 Your question: What are the drinks available\n",
            "💬 Answer: Hot Beverages - Espresso ................... 120 - Cappuccino ................ 150 - Café Latte ................ 160 - Hot Chocolate ............. 180 - Masala Chai ............... 100 Cold Beverages - Iced Americano ............ 130 - Cold Coffee ............... 150 - Iced Lemon Tea ............ 120 - Oreo Shake ................ 200 Desserts - Chocolate Brownie ......... 110 - Cheesecake ................ 170 \n",
            "\n",
            "🔎 Your question: exit\n",
            "👋 Exiting. Thank you!\n"
          ]
        }
      ]
    }
  ]
}